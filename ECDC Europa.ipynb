{
 "cells": [
  {
   "cell_type": "markdown",
   "id": "2eef9a54-937e-43d7-bb04-dbacad8bc5a7",
   "metadata": {},
   "source": [
    "# ecdc.europa.eu\n",
    "https://www.ecdc.europa.eu/en/covid-19/data\n",
    "\n",
    "* [Opendata europe -nationalcasedeath json](https://opendata.ecdc.europa.eu/covid19/nationalcasedeath/json/)\n"
   ]
  },
  {
   "cell_type": "markdown",
   "id": "4d4d5992-a45a-440c-b599-66b0f99e9e2b",
   "metadata": {},
   "source": [
    "# Reference Data\n",
    "[Variable_Dictionary_VaccineTracker](https://www.ecdc.europa.eu/sites/default/files/documents/Variable_Dictionary_VaccineTracker-20-08-2021.pdf)"
   ]
  },
  {
   "cell_type": "code",
   "execution_count": null,
   "id": "c0505db4-d262-465f-b2c3-07661eb884b6",
   "metadata": {},
   "outputs": [],
   "source": [
    "case class CovidVaccine(code:String, name:String)\n",
    "val covidVaccineDF= spark.createDataFrame(\n",
    "    Seq(CovidVax(\"AZ\",\"Vaxzevria – AstraZeneca\")\n",
    ",CovidVax(\"BBIBP\",\"Sinopharm\")\n",
    "    \n",
    ",CovidVax(\"BECNBG\",\"Inactivated – Beijing CNBG\")\n",
    ",CovidVax(\"BHACOV\",\"Covaxin – Bharat\")\n",
    ",CovidVax(\"COM\",\"Comirnaty – Pfizer/BioNTech\")\n",
    ",CovidVax(\"JANSS\",\"Ad26.COV 2.5 – Janssen\")\n",
    ",CovidVax(\"HAYATVAC\",\"Hayat VAC\")\n",
    ",CovidVax(\"MOD\",\"mRNA-1273 – Moderna\")\n",
    ",CovidVax(\"QAZVAQ\",\"QazCovid-In\")\n",
    ",CovidVax(\"SIICOV\",\"Covishield – SII\") \n",
    ",CovidVax(\"SIN\",\"CoronaVac – Sinovac\")\n",
    ",CovidVax(\"SPU\",\"Sputnik V - Gamaleya\")\n",
    ",CovidVax(\"SRCVB\",\"EpiVacCorona – SRCVB\")\n",
    ",CovidVax(\"WUCNBG\",\"Inactivated – WuhanCNBG\")\n",
    ",CovidVax(\"UNK\",\"UNKNOWN\")\n",
    ",CovidVax(\"ZFUZ\",\"Sino-Uzbek - ZF-UZ-VAC\")))\n",
    "\n",
    "covidVaccineDF.show"
   ]
  },
  {
   "cell_type": "code",
   "execution_count": null,
   "id": "20d6d749-5436-4b64-95b4-fa7666065fd5",
   "metadata": {},
   "outputs": [],
   "source": []
  },
  {
   "cell_type": "markdown",
   "id": "02b622a5-5c7e-4e78-9ef4-fe2b02533d59",
   "metadata": {},
   "source": [
    "# Vaccine tracker\n",
    "[Opendata europe vaccine_tracker &#10515;](https://opendata.ecdc.europa.eu/covid19/vaccine_tracker/json)\n"
   ]
  },
  {
   "cell_type": "code",
   "execution_count": null,
   "id": "e585ccb9-e2f6-418e-88b8-a20540a7a2f4",
   "metadata": {},
   "outputs": [],
   "source": [
    "case class VaccineTracker (\n",
    "    rowNumber:BigInt\n",
    "    , YearWeekISO: String\n",
    "    , firstDose: Integer\n",
    "    , firstDoseRefused: Integer\n",
    "    , secondDose: Integer\n",
    "    , unknownDose: Integer\n",
    "    , numberDosesReceived: Integer\n",
    "    , region: String\n",
    "    , population: Integer\n",
    "    , reportingCountry: String\n",
    "    , targetGroup: String\n",
    "    , vaccine : String\n",
    "    , denominator: Integer)"
   ]
  },
  {
   "cell_type": "code",
   "execution_count": null,
   "id": "8854ec13-895d-4cdb-a0e0-c7cb9995e856",
   "metadata": {},
   "outputs": [],
   "source": [
    "import org.apache.spark.sql._\n",
    "import org.apache.spark.sql.functions._\n",
    "import org.apache.spark.sql.types._\n",
    "\n",
    "val vaccineTrackerDF = spark.read.option(\"header\", \"true\")\n",
    "    .csv(\"file:///home/taccart/Downloads/ECDC/vaccing_tracker.csv\") \n",
    "    .withColumn(\"firstDose\", col(\"FirstDose\").cast(IntegerType))\n",
    "    .withColumn(\"firstDoseRefused\", col(\"FirstDoseRefused\").cast(IntegerType))\n",
    "    .withColumn(\"secondDose\", col(\"SecondDose\").cast(IntegerType))\n",
    "    .withColumn(\"unknownDose\", col(\"UnknownDose\").cast(IntegerType))\n",
    "    .withColumn(\"numberDosesReceived\", col(\"NumberDosesReceived\").cast(IntegerType))\n",
    "    .withColumn(\"population\", col(\"Population\").cast(IntegerType))\n",
    "    .withColumn(\"denominator\", col(\"Denominator\").cast(IntegerType))\n",
    "    .withColumn(\"rowNumber\", monotonically_increasing_id())\n",
    "    .na.fill(0)\n",
    ".as[VaccineTracker]\n",
    "\n",
    "vaccineTrackerDF.createOrReplaceTempView(\"TVaxTracker\")\n",
    "\n"
   ]
  },
  {
   "cell_type": "code",
   "execution_count": null,
   "id": "d9322085-c08b-4dce-8926-a7b0859f54d6",
   "metadata": {},
   "outputs": [],
   "source": [
    "spark.sql(\"select vaccine, count(*),min (YearWeekISO), max(YearWeekISO) from tvaxtracker group by vaccine\").show"
   ]
  },
  {
   "cell_type": "code",
   "execution_count": null,
   "id": "8590bd4e-322a-4eed-89fd-24786c8fa4e4",
   "metadata": {},
   "outputs": [],
   "source": [
    "spark.sql(\"select distinct VAX_MANU from tvax where vax_type= 'COVID19'\").show"
   ]
  },
  {
   "cell_type": "code",
   "execution_count": null,
   "id": "464d4aa2-33be-4b07-8453-7825a7f49d26",
   "metadata": {},
   "outputs": [],
   "source": []
  }
 ],
 "metadata": {
  "kernelspec": {
   "display_name": "spylon-kernel",
   "language": "scala",
   "name": "spylon-kernel"
  },
  "language_info": {
   "codemirror_mode": "text/x-scala",
   "file_extension": ".scala",
   "help_links": [
    {
     "text": "MetaKernel Magics",
     "url": "https://metakernel.readthedocs.io/en/latest/source/README.html"
    }
   ],
   "mimetype": "text/x-scala",
   "name": "scala",
   "pygments_lexer": "scala",
   "version": "0.4.1"
  }
 },
 "nbformat": 4,
 "nbformat_minor": 5
}
