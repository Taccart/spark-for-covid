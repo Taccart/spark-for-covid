{
 "cells": [
  {
   "cell_type": "markdown",
   "id": "ffd35e7b",
   "metadata": {},
   "source": [
    "# EUDRA Vigilance\n",
    "Data source : EudraVigilance, Human datasets\n",
    "Data location : https://www.adrreports.eu/\n",
    "\n",
    "```\n",
    "EudraVigilance is the system for managing and analysing information on suspected adverse reactions to medicines which have been authorised or being studied in clinical trials in the European Economic Area (EEA). The European Medicines Agency (EMA) operates the system on behalf of the European Union (EU) medicines regulatory network.\n",
    "```\n",
    "\n",
    "* [COVID-19 MRNA VACCINE MODERNA CX-024414](https://dap.ema.europa.eu/analyticsSOAP/saw.dll?PortalPages&amp;PortalPath=%2Fshared%2FPHV%20DAP%2F_portal%2FDAP&amp;Action=Navigate&amp;P0=1&amp;P1=eq&amp;P2=%22Line%20Listing%20Objects%22.%22Substance%20High%20Level%20Code%22&amp;P3=1+40983312)\n",
    "* [COVID-19 MRNA VACCINE PFIZER-BIONTECH TOZINAMERAN](https://dap.ema.europa.eu/analyticsSOAP/saw.dll?PortalPages&amp;PortalPath=%2Fshared%2FPHV%20DAP%2F_portal%2FDAP&amp;Action=Navigate&amp;P0=1&amp;P1=eq&amp;P2=%22Line%20Listing%20Objects%22.%22Substance%20High%20Level%20Code%22&amp;P3=1+42325700)\n",
    "* [COVID-19 VACCINE ASTRAZENECA (CHADOX1 NCOV-19)](https://dap.ema.europa.eu/analyticsSOAP/saw.dll?PortalPages&amp;PortalPath=%2Fshared%2FPHV%20DAP%2F_portal%2FDAP&amp;Action=Navigate&amp;P0=1&amp;P1=eq&amp;P2=%22Line%20Listing%20Objects%22.%22Substance%20High%20Level%20Code%22&amp;P3=1+40995439)\n",
    "* [COVID-19 VACCINE JANSSEN AD26.COV2.S](https://dap.ema.europa.eu/analyticsSOAP/saw.dll?PortalPages&amp;PortalPath=%2Fshared%2FPHV%20DAP%2F_portal%2FDAP&amp;Action=Navigate&amp;P0=1&amp;P1=eq&amp;P2=%22Line%20Listing%20Objects%22.%22Substance%20High%20Level%20Code%22&amp;P3=1+42287887)\n",
    "* and more ...\n",
    "\n",
    "On a report ADRReports, \n",
    "1. open the **`Line listing`** tab\n",
    "2. set `YEAR=2021`\n",
    "3. open line report via **`Run Line Listing Report`**.\n",
    "4. From the `Line listing` report page,   choose **`Export`/`Data`/`Tab delimited`** to download TSV files.\n",
    "\n",
    "\n",
    "**Warning : convert files to UTF-8**\n",
    "\n",
    "I experienced one downloaded file  UTF-8 encoded, while others were UTF16-le encoded.\n",
    "* to view enconding, use ```file -i yourfile```\n",
    "* to convert encoding, you can use iconv such as \n",
    "```iconv -f utf-16le -t utf-8 your-utf16le-file --output your-utf8-file```\n",
    "\n",
    "\n",
    "The following notebook transforms locally downloaded TSV formated data, into rows."
   ]
  },
  {
   "cell_type": "markdown",
   "id": "c0f8d37c",
   "metadata": {},
   "source": [
    "# Source path & encoding"
   ]
  },
  {
   "cell_type": "code",
   "execution_count": 5,
   "id": "19762353-d1a5-4c9a-b455-ad6e49116954",
   "metadata": {},
   "outputs": [
    {
     "data": {
      "text/plain": [
       "sourceEudraTSV: String = file:///home/taccart/Downloads/EUDRA\n",
       "sourceEncoding: String = UTF-8\n"
      ]
     },
     "execution_count": 5,
     "metadata": {},
     "output_type": "execute_result"
    }
   ],
   "source": [
    "val sourceEudraTSV=\"file:///home/taccart/Downloads/EUDRA\"\n",
    "val sourceEncoding=\"UTF-8\""
   ]
  },
  {
   "cell_type": "markdown",
   "id": "3f39c0ef-1fbf-4085-9853-5f714cd1f248",
   "metadata": {},
   "source": [
    "# Tooling for data preparation\n",
    "* imports\n",
    "* case classes\n",
    "* user defined functions for data parsing"
   ]
  },
  {
   "cell_type": "code",
   "execution_count": 6,
   "id": "e29b89a3",
   "metadata": {},
   "outputs": [
    {
     "data": {
      "text/plain": [
       "import org.apache.spark.sql.functions._\n",
       "import org.apache.spark.sql._\n",
       "import scala.collection.mutable.ListBuffer\n",
       "import org.apache.spark.sql.functions.udf\n",
       "import spark.implicits._\n",
       "import java.sql.Date\n",
       "defined class Reaction\n",
       "defined class Drug\n",
       "defined class EudraRecord\n",
       "defined class EudraAgeGroup\n",
       "getReactionList: String => List[Reaction]\n",
       "getReactionListUDF: org.apache.spark.sql.expressions.UserDefinedFunction = SparkUserDefinedFunction($Lambda$2559/0x0000000840fa0840@1c1ca528,ArrayType(StructType(StructField(description,StringType,true), StructField(duration,StringType,true), StructField(outcome,StringType,true), StructField(seriousnessCriteria,StringType,true)),true),List(Some(class[value[0]: string])),Some(class[value[0]: array<struct<description:string,duration:string,outcome:string,s...\n"
      ]
     },
     "execution_count": 6,
     "metadata": {},
     "output_type": "execute_result"
    }
   ],
   "source": [
    "import org.apache.spark.sql.functions._\n",
    "import org.apache.spark.sql._\n",
    "import scala.collection.mutable.ListBuffer\n",
    "import org.apache.spark.sql.functions.udf\n",
    "import spark.implicits._\n",
    "import java.sql.Date\n",
    "\n",
    "case class Reaction(\n",
    "    description: String = \"\"\n",
    "    , duration: String = \"\"\n",
    "    , outcome: String = \"\"\n",
    "    , seriousnessCriteria: String = \"\") \n",
    "\n",
    "case class Drug(\n",
    "    name: String = \"\"\n",
    "  , letter: String = \"\"\n",
    "  , indication: String = \"\"\n",
    "  , actionTaken: String = \"\"\n",
    "  , duration: String = \"\"\n",
    "  , dose: String = \"\"\n",
    "  , route: String = \"\" ) \n",
    "\n",
    "//Eudra records are exposing all values a strings in CSV. To reduce the memory footprint, weĺl use Boolean, Dates or Integers when possible. User defined functions will help us.\n",
    "case class EudraRecord(\n",
    "    reportEULocalNumber : String \n",
    "    , reportReceived:Date \n",
    "    , ageGroup:Integer\n",
    "    , isSpontaneous:Boolean\n",
    "    , isHealthCareProfessionnal:  Boolean \n",
    "    , isSourceRegionEU: Boolean \n",
    "    , isPatientMale:Boolean\n",
    "    , isPatientFemale:Boolean\n",
    " ) \n",
    "\n",
    "case class EudraAgeGroup (\n",
    "    ageGroupCode:Byte\n",
    "    , minAgeMonth:Int\n",
    "    ,maxAgeMonth:Int\n",
    "    ,ageGroupName:String\n",
    ")\n",
    "\n",
    "\n",
    "\n",
    "/**\n",
    "  transform reaction string into List[Reaction] \n",
    "**/\n",
    "def getReactionList  = (eudraNestedString: String) => {\n",
    "    val reactionPattern= \"\"\"(?<descripton>.*)\\s\\((?<duration>[^\\t]*)\\t(?<outcome>[^\\t]*)\\t(?<seriousness>.*)\\)\"\"\"\n",
    "        .r(\"description\",\"duration\",\"outcome\",\"seriousness\")\n",
    "    val result= ListBuffer.empty[Reaction]\n",
    "    if (! (eudraNestedString == null || eudraNestedString.length==0)) try {\n",
    "      val reactionArray:Array[String]=eudraNestedString.split( \"\\n\")\n",
    "      reactionArray.toList.foreach(reactionString=> {\n",
    "          val matched = reactionPattern.findFirstMatchIn(reactionString)\n",
    "           if (!matched.isEmpty) \n",
    "               result +=  {Reaction(matched.get.group(\"description\"), matched.get.group(\"duration\"), matched.get.group(\"outcome\"), matched.get.group(\"seriousness\"))}\n",
    "           } \n",
    "        )\n",
    "    } catch { case e: Exception => {/* do nothing */} }\n",
    "    result.toList\n",
    "}\n",
    "val getReactionListUDF = udf(getReactionList)\n",
    "\n",
    "/** \n",
    "  transform drug string into List[Drug] \n",
    "**/ \n",
    "def getDrugList = (eudraNestedString: String) =>   {\n",
    "    val drugPattern= \"\"\"(?<name>.*)\\s\\((?<drugchar>[^\\t]{1})\\t(?<indication>[^\\t]*)\\t(?<action>[^\\t]*)\\t\\[(?<duration>[^\\t]*)\\t(?<dose>[^\\t]*)\\t(?<route>[^\\]]*)\"\"\"\n",
    "      .r(\"name\",\"drugchar\",\"indication\",\"action\",\"duration\",\"dose\",\"route\")\n",
    "    var result = ListBuffer.empty[Drug]\n",
    "    if (! (eudraNestedString == null || eudraNestedString.length==0)) try {\n",
    "      val drugsArray:Array[String]=eudraNestedString.split( \"\\n\")\n",
    "      drugsArray.toList.foreach(drugString=> {\n",
    "        val matched = drugPattern.findFirstMatchIn(drugString)\n",
    "        if (!matched.isEmpty)\n",
    "          result += Drug( matched.get.group(\"name\")\n",
    "            ,  matched.get.group(\"drugchar\")\n",
    "            ,  matched.get.group(\"indication\")\n",
    "            ,  matched.get.group(\"action\")\n",
    "            ,  matched.get.group(\"duration\")\n",
    "            ,  matched.get.group(\"dose\")\n",
    "            ,  matched.get.group(\"route\"))\n",
    "      })\n",
    "    } catch { case e: Exception => { /* do nothing */ } }\n",
    "    result.toList\n",
    "  }\n",
    "val getDrugListUDF = udf(getDrugList)\n",
    "\n",
    "\n",
    "/**\n",
    "    normalize drug name containing COVID-19 and  VACCINE and (ASTRAZENECA or JANSSEN or MODERNA or TOZINAMERAN)\n",
    "    into COVID-19 ASTZ | COVID-19 JANS | COVID-19 MODR | COVID-19 PFIZ | COVID-19 ??? | \n",
    "    or return same string.\n",
    "**/\n",
    "\n",
    "def getCleanerDrugName = (eudraDrugName:String)=> {\n",
    "    if (eudraDrugName==null) None\n",
    "    val drugPattern= \"\"\"^\\[([^,]*)\\]\"\"\".r(\"name\")\n",
    "    val matched = drugPattern.findFirstMatchIn(eudraDrugName)\n",
    "    if (!matched.isEmpty)\n",
    "        matched.get.group(\"name\")\n",
    "    else\n",
    "        eudraDrugName\n",
    "   \n",
    "}\n",
    "val getCleanerDrugNameUDF = udf(getCleanerDrugName)   \n",
    "spark.udf.register(\"getCleanerDrugName\", getCleanerDrugName)\n",
    "\n",
    "\n",
    "/*  \n",
    " * getCovidVaccineCode to enable correlation between EUDRAVigilance and ECDC Vaccine tracker we need to get\n",
    " */\n",
    "def getCovidVaccineCode = (eudraDrugName:String)=> {\n",
    "    if (eudraDrugName==null) None\n",
    "    val name=eudraDrugName.toUpperCase\n",
    "    if (name.contains(\"TOZINAMERAN\"))  Some(\"COM\") \n",
    "    else if (name.contains(\"CHADOX1\")) Some (\"AZ\")\n",
    "    else if (name.contains(\"CX-024414\"))  Some(\"MOD\")\n",
    "    else if (name.contains(\"SPIKEVAX\"))  Some(\"MOD\") \n",
    "    else if (name.contains(\"COMIRNATY\"))  Some(\"COM\") \n",
    "    else if (name.contains(\"STRAIN CZ02\")) Some (\"SIN\")\n",
    "    else if (name.contains(\"HB02\")) Some (\"BBIBP\")\n",
    "    else if (name.contains(\"AD26.COV2.S\"))  Some(\"JANSS\")\n",
    "    else if (name.contains(\"BNT 162\")) Some(\"COM\")\n",
    "    else if (name.contains(\"PFIZER\")) Some(\"COM\")\n",
    "    else if (name.contains(\"BIONTECH\")) Some(\"COM\")\n",
    "    else if (name.contains(\"ASTRAZENECA\")) Some(\"AZ\")\n",
    "    else if (name.contains(\"MODERNA\")) Some(\"MOD\")\n",
    "    else if (name.contains(\"JANSSEN\")) Some(\"MOD\")\n",
    "    //not found specific \n",
    "    else if (name.contains(\"COVID-19\")) Some(\"UNK\")\n",
    "    else None\n",
    "}\n",
    "val getCovidVaccineCodeUDF = udf(getCovidVaccineCode)   \n",
    "spark.udf.register(\"getCovidVaccineCode\",getCovidVaccineCode)\n",
    "\n",
    "\n",
    "\n",
    "\n",
    "val isSpontaneous = (s:String)=> {\n",
    "    if (\"Spontaneous\".equals(s)) Some(true)\n",
    "    else if (s!=null) Some(false)\n",
    "    else None\n",
    "}\n",
    "val  isSpontaneousUDF = udf( isSpontaneous )   \n",
    "\n",
    "val isPatientMale = (s:String)=> {\n",
    "    if (\"Male\".equals(s)) Some(true)\n",
    "    else if (s !=null && ! \"\".equals(s)) Some(false)\n",
    "    else None\n",
    "}\n",
    "val  isPatientMaleUDF = udf( isPatientMale )\n",
    "\n",
    "val isPatientFemale = (s:String)=> {\n",
    "    if (\"Female\".equals(s)) Some(true)\n",
    "    else if (s !=null && ! \"\".equals(s)) Some(false)\n",
    "    else None\n",
    "}\n",
    "val  isPatientFemaleUDF = udf( isPatientFemale )\n",
    "\n",
    "\n",
    "val isHealthCareProfessional = (eudraReportType:String)=> {\n",
    "    if (\"Healthcare Professional\".equals(eudraReportType)) Some(true)\n",
    "    else if (\"Non Healthcare Professional\".equals(eudraReportType)) Some(false)\n",
    "    else None\n",
    "}\n",
    "val  isHealthCareProfessionalUDF = udf( isHealthCareProfessional)   \n",
    "spark.udf.register(\"isHealthCareProfessional\",isHealthCareProfessional)\n",
    "\n",
    "\n",
    "val isSourceRegionEU = (eudraReportType:String)=> {\n",
    "    if (\"European Economic Area\".equals(eudraReportType)) Some(true)\n",
    "    else if (\"Non European Economic Area\".equals(eudraReportType)) Some(false)\n",
    " \n",
    "    else None\n",
    "}\n",
    "val  isSourceRegionEUUDF = udf( isSourceRegionEU)   \n",
    "spark.udf.register(\"isSourceRegionEU\",isSourceRegionEU)\n",
    "\n",
    "val getAgeGroupCode =(ageGroupLabel:String) => {\n",
    "    ageGroupLabel match {\n",
    "        case \"0-1 Month\"=>Some(0)\n",
    "        case \"2 Months - 2 Years\"=>Some(1)\n",
    "        case \"3-11 Years\"=>Some(2)\n",
    "        case \"12-17 Years\"=>Some(3)\n",
    "        case \"18-64 Years\"=>Some(4)\n",
    "        case \"64-85 Years\"=>Some(5)\n",
    "        case \"more than 85 Years\"=>Some(6)\n",
    "        case _  => None\n",
    "    } \n",
    "}\n",
    "val  getAgeGroupCodeUDF = udf( getAgeGroupCode)   \n",
    "\n",
    "\n",
    "// val eudraAgeGroupDF= spark.createDataset(\n",
    "//     Seq( EudraAgeGroup(0,0,    (1+1),     \"0-1 Month\")\n",
    "//         ,EudraAgeGroup(1,2,    (2+1)*12,  \"2 Months - 2 Years\")\n",
    "//         ,EudraAgeGroup(2,3*12, (11+1)*12, \"3-11 Years\")\n",
    "//         ,EudraAgeGroup(3,12*12,(17+1)*12, \"12-17 Years\")\n",
    "//         ,EudraAgeGroup(4,18*12,(64+1)*12, \"18-64 Years\")\n",
    "//         ,EudraAgeGroup(5,64*12,(85+1)*12, \"64-85 Years\")\n",
    "//         ,EudraAgeGroup(6,85*12,Integer.MAX_VALUE,\"more than 85 Years\")\n",
    "//     ) )\n",
    "// eudraAgeGroupDF.createOrReplaceTempView(\"VEudraAgeGroup\")\n",
    "// eudraAgeGroupDF.printSchema\n",
    "\n",
    "\n",
    "  spark.udf.register(\"getReactionList\",getReactionList)\n"
   ]
  },
  {
   "cell_type": "markdown",
   "id": "e700ca56-676e-4d0d-bda7-247bccf77370",
   "metadata": {},
   "source": [
    "# Reading and parsing source file\n",
    "In this first step we read a tab separated values file, explode the nested lists into List[&lt;case class&gt;] objects via user defined functions."
   ]
  },
  {
   "cell_type": "code",
   "execution_count": 7,
   "id": "b68a9dd2",
   "metadata": {},
   "outputs": [
    {
     "name": "stdout",
     "output_type": "stream",
     "text": [
      "root\n",
      " |-- reportEULocalNumber: string (nullable = true)\n",
      " |-- Report Type: string (nullable = true)\n",
      " |-- EV Gateway Receipt Date: string (nullable = true)\n",
      " |-- Primary Source Qualification: string (nullable = true)\n",
      " |-- Primary Source Country for Regulatory Purposes: string (nullable = true)\n",
      " |-- Literature Reference: string (nullable = true)\n",
      " |-- Patient Age Group: string (nullable = true)\n",
      " |-- Patient Age Group (as per reporter): string (nullable = true)\n",
      " |-- Parent Child Report: string (nullable = true)\n",
      " |-- Patient Sex: string (nullable = true)\n",
      " |-- Reaction List PT (Duration – Outcome - Seriousness Criteria): string (nullable = true)\n",
      " |-- Suspect/interacting Drug List (Drug Char - Indication PT - Action taken - [Duration - Dose - Route]): string (nullable = true)\n",
      " |-- Concomitant/Not Administered Drug List (Drug Char - Indication PT - Action taken - [Duration - Dose - Route]): string (nullable = true)\n",
      " |-- ICSR Form: string (nullable = true)\n",
      " |-- input_file_name: string (nullable = false)\n",
      "\n",
      "Source CSV data imported :  741613 rows in DataFrame\n"
     ]
    },
    {
     "data": {
      "text/plain": [
       "eudraDF: org.apache.spark.sql.Dataset[org.apache.spark.sql.Row] = [reportEULocalNumber: string, Report Type: string ... 13 more fields]\n"
      ]
     },
     "execution_count": 7,
     "metadata": {},
     "output_type": "execute_result"
    }
   ],
   "source": [
    "\n",
    "val eudraDF=spark.read\n",
    "    .option(\"header\",\"true\")\n",
    "    .option(\"encoding\", sourceEncoding)\n",
    "    .option(\"delimiter\",\"\\t\")\n",
    "    .csv(sourceEudraTSV)\n",
    "    .withColumnRenamed (\"EU Local Number\",\"reportEULocalNumber\")\n",
    "    .withColumn( \"input_file_name\", input_file_name())\n",
    ".cache\n",
    "\n",
    " eudraDF.printSchema\n",
    "println (s\"Source CSV data imported :  ${eudraDF.count} rows in DataFrame\")\n",
    "// eudraDF.show"
   ]
  },
  {
   "cell_type": "markdown",
   "id": "e7826e3d",
   "metadata": {},
   "source": [
    "# Exploding source data"
   ]
  },
  {
   "cell_type": "markdown",
   "id": "74ebdf45-3885-4d11-8034-effd80b56be6",
   "metadata": {},
   "source": [
    "## Virtual tables\n",
    "Working with list of elements is possible but not easy in SQL : to facilitate usage of data, let's explode the lists into dedicated dataframes and table having all having in common with the `Records` their identifier `reportEULocalNumber`\n",
    "* `reactions` \n",
    "* `concomitant drugs` \n",
    "* `suspect drugs` \n",
    " "
   ]
  },
  {
   "cell_type": "markdown",
   "id": "7c177b17-ba54-44c0-927d-811b8e9a2bab",
   "metadata": {},
   "source": [
    "### Definition of recordsDF and view VRecords"
   ]
  },
  {
   "cell_type": "code",
   "execution_count": 8,
   "id": "62dee74d-e404-40dc-a364-6c18970bd403",
   "metadata": {},
   "outputs": [
    {
     "name": "stdout",
     "output_type": "stream",
     "text": [
      "recordsDF:  741613 rows in DataFrame\n"
     ]
    },
    {
     "data": {
      "text/plain": [
       "recordsDF: org.apache.spark.sql.Dataset[EudraRecord] = [reportEULocalNumber: string, reportReceived: date ... 6 more fields]\n"
      ]
     },
     "execution_count": 8,
     "metadata": {},
     "output_type": "execute_result"
    }
   ],
   "source": [
    "val recordsDF=eudraDF\n",
    "    .withColumn(\"reportReceived\", to_date(col(\"EV Gateway Receipt Date\")))\n",
    "    .withColumn(\"ageGroup\",getAgeGroupCodeUDF(col(\"Patient Age Group\")))\n",
    "    .withColumnRenamed(\"Patient Sex\", \"patientSex\")\n",
    "     .withColumn(\"isHealthCareProfessionnal\", isHealthCareProfessionalUDF(col(\"Primary Source Qualification\")))\n",
    "     .withColumn(\"isSourceRegionEU\", isSourceRegionEUUDF(col(\"Primary Source Country for Regulatory Purposes\")))\n",
    "     .withColumn(\"isSpontaneous\", isSpontaneousUDF(col(\"Report Type\")))\n",
    "     .withColumn(\"isPatientMale\", isPatientMaleUDF(col(\"patientSex\")))\n",
    "     .withColumn(\"isPatientFeMale\", isPatientFemaleUDF(col(\"patientSex\")))\n",
    "    .select(\"reportEULocalNumber\",\"reportReceived\", \"ageGroup\", \"isPatientMale\",\"isPatientFemale\", \"isHealthCareProfessionnal\",  \"isSourceRegionEU\" , \"isSpontaneous\")\n",
    "    .as[EudraRecord]\n",
    "println (s\"recordsDF:  ${recordsDF.count} rows in DataFrame\")\n",
    "recordsDF.createOrReplaceTempView(\"VRecords\")\n",
    "// recordsDF.show"
   ]
  },
  {
   "cell_type": "markdown",
   "id": "db7cca0e-9b9d-4205-813c-4bc44c09a8f2",
   "metadata": {},
   "source": [
    "### Definition of reactionsDF and view VReactions\n"
   ]
  },
  {
   "cell_type": "code",
   "execution_count": 9,
   "id": "32a57223-1922-4675-bafc-15713c15b18c",
   "metadata": {},
   "outputs": [
    {
     "name": "stdout",
     "output_type": "stream",
     "text": [
      "reactionsDF:  2703123 rows in DataFrame\n"
     ]
    },
    {
     "data": {
      "text/plain": [
       "reactionsDF: org.apache.spark.sql.Dataset[(String, Reaction)] = [reportEULocalNumber: string, reaction: struct<description: string, duration: string ... 2 more fields>]\n"
      ]
     },
     "execution_count": 9,
     "metadata": {},
     "output_type": "execute_result"
    }
   ],
   "source": [
    "val reactionsDF = eudraDF\n",
    " .withColumn(\"reactionList\"\n",
    "        , getReactionListUDF(regexp_replace( regexp_replace(col(\"Reaction List PT (Duration – Outcome - Seriousness Criteria)\"), \" - \", \"\\t\") , \",<BR><BR>\", \"\\n\"  ) ))\n",
    "   .select(\"reportEULocalNumber\", \"reactionList\") \n",
    "   .withColumn(\"reaction\", explode(col(\"reactionList\")))\n",
    "   .select(\"reportEULocalNumber\",\"reaction\")\n",
    "   .as[(String,Reaction)]\n",
    "\n",
    "println (s\"reactionsDF:  ${reactionsDF.count} rows in DataFrame\")\n",
    "reactionsDF.createOrReplaceTempView(\"VReactions\")\n",
    "// reactionsDF.show"
   ]
  },
  {
   "cell_type": "markdown",
   "id": "6278f30f-1d9c-4c42-9131-e75e47de2855",
   "metadata": {},
   "source": [
    "### Definition of suspectDrugsDF and view VSuspectDrugs"
   ]
  },
  {
   "cell_type": "code",
   "execution_count": 10,
   "id": "88a15741-8355-445c-880f-d005f6e80598",
   "metadata": {},
   "outputs": [
    {
     "name": "stdout",
     "output_type": "stream",
     "text": [
      "suspectDrugsDF:  751377 rows in DataFrame\n"
     ]
    },
    {
     "data": {
      "text/plain": [
       "suspectDrugsDF: org.apache.spark.sql.Dataset[(String, Drug)] = [reportEULocalNumber: string, suspectDrug: struct<name: string, letter: string ... 5 more fields>]\n"
      ]
     },
     "execution_count": 10,
     "metadata": {},
     "output_type": "execute_result"
    }
   ],
   "source": [
    "val suspectDrugsDF = eudraDF\n",
    "    .withColumn(\"suspectList\"\n",
    "        , getDrugListUDF(regexp_replace(  regexp_replace(col(\"Suspect/interacting Drug List (Drug Char - Indication PT - Action taken - [Duration - Dose - Route])\"), \" - \", \"\\t\") , \",<BR><BR>\", \"\\n\"  ) ) )\n",
    "    .select(\"reportEULocalNumber\",\"suspectList\")\n",
    "    .withColumn(\"suspectDrug\", explode(col(\"suspectList\")))\n",
    "    .select(\"reportEULocalNumber\",\"suspectDrug\")\n",
    "    .as[(String,Drug)]\n",
    "println (s\"suspectDrugsDF:  ${suspectDrugsDF.count} rows in DataFrame\")\n",
    "suspectDrugsDF.createOrReplaceTempView(\"VSuspectDrugs\")\n",
    "// suspectDrugsDF.show"
   ]
  },
  {
   "cell_type": "markdown",
   "id": "d0057412-8202-461b-ae07-c533465f8031",
   "metadata": {},
   "source": [
    "### Definition of concomitantDrugsDF and view VConcomitantDrugs"
   ]
  },
  {
   "cell_type": "code",
   "execution_count": 11,
   "id": "2c9dad83-153a-42c9-8702-e329c9fafcc8",
   "metadata": {},
   "outputs": [
    {
     "name": "stdout",
     "output_type": "stream",
     "text": [
      "concomitantDrugsDF:  473114 rows in DataFrame\n"
     ]
    },
    {
     "data": {
      "text/plain": [
       "concomitantDrugsDF: org.apache.spark.sql.Dataset[(String, Drug)] = [reportEULocalNumber: string, concomitantDrug: struct<name: string, letter: string ... 5 more fields>]\n"
      ]
     },
     "execution_count": 11,
     "metadata": {},
     "output_type": "execute_result"
    }
   ],
   "source": [
    "val concomitantDrugsDF = eudraDF\n",
    "    .withColumn(\"concomitantList\"\n",
    "        , getDrugListUDF(regexp_replace(  regexp_replace(col(\"Concomitant/Not Administered Drug List (Drug Char - Indication PT - Action taken - [Duration - Dose - Route])\"), \" - \", \"\\t\") , \",<BR><BR>\", \"\\n\"  ) ) )\n",
    "    .withColumn(\"concomitantDrug\", explode(col(\"concomitantList\")))\n",
    "    .select(\"reportEULocalNumber\",\"concomitantDrug\")\n",
    "    .as[(String,Drug)]\n",
    "println (s\"concomitantDrugsDF:  ${concomitantDrugsDF.count} rows in DataFrame\")       \n",
    "concomitantDrugsDF.createOrReplaceTempView(\"VConcomitantDrugs\")\n"
   ]
  },
  {
   "cell_type": "markdown",
   "id": "2b1f3b86-1234-4cd1-8d10-bed67481c1bd",
   "metadata": {},
   "source": [
    "<hr />\n",
    "<hr />\n",
    "<h1>At this point, all data preparation is done!</h1>\n",
    "\n",
    "\n",
    "Here are the Spark SQL tables\n"
   ]
  },
  {
   "cell_type": "code",
   "execution_count": 12,
   "id": "693d822f-3f91-4433-b72b-6d3a8cc5b7c5",
   "metadata": {},
   "outputs": [
    {
     "name": "stdout",
     "output_type": "stream",
     "text": [
      "List of exposed Spark SQL tables:\n",
      "table vconcomitantdrugs:\n",
      "========================\n",
      "root\n",
      " |-- reportEULocalNumber: string (nullable = true)\n",
      " |-- concomitantDrug: struct (nullable = true)\n",
      " |    |-- name: string (nullable = true)\n",
      " |    |-- letter: string (nullable = true)\n",
      " |    |-- indication: string (nullable = true)\n",
      " |    |-- actionTaken: string (nullable = true)\n",
      " |    |-- duration: string (nullable = true)\n",
      " |    |-- dose: string (nullable = true)\n",
      " |    |-- route: string (nullable = true)\n",
      "\n",
      "table vreactions:\n",
      "=================\n",
      "root\n",
      " |-- reportEULocalNumber: string (nullable = true)\n",
      " |-- reaction: struct (nullable = true)\n",
      " |    |-- description: string (nullable = true)\n",
      " |    |-- duration: string (nullable = true)\n",
      " |    |-- outcome: string (nullable = true)\n",
      " |    |-- seriousnessCriteria: string (nullable = true)\n",
      "\n",
      "table vrecords:\n",
      "===============\n",
      "root\n",
      " |-- reportEULocalNumber: string (nullable = true)\n",
      " |-- reportReceived: date (nullable = true)\n",
      " |-- ageGroup: integer (nullable = true)\n",
      " |-- isPatientMale: boolean (nullable = true)\n",
      " |-- isPatientFemale: boolean (nullable = true)\n",
      " |-- isHealthCareProfessionnal: boolean (nullable = true)\n",
      " |-- isSourceRegionEU: boolean (nullable = true)\n",
      " |-- isSpontaneous: boolean (nullable = true)\n",
      "\n",
      "table vsuspectdrugs:\n",
      "====================\n",
      "root\n",
      " |-- reportEULocalNumber: string (nullable = true)\n",
      " |-- suspectDrug: struct (nullable = true)\n",
      " |    |-- name: string (nullable = true)\n",
      " |    |-- letter: string (nullable = true)\n",
      " |    |-- indication: string (nullable = true)\n",
      " |    |-- actionTaken: string (nullable = true)\n",
      " |    |-- duration: string (nullable = true)\n",
      " |    |-- dose: string (nullable = true)\n",
      " |    |-- route: string (nullable = true)\n",
      "\n"
     ]
    }
   ],
   "source": [
    "println(\"List of exposed Spark SQL tables:\")\n",
    "spark.sql(\"show tables\")\n",
    ".select(\"tableName\")\n",
    ".as[String]\n",
    ".collect\n",
    ".foreach(t=>{\n",
    "    println(s\"table $t:\")\n",
    "    println(\"=\"*(s\"table $t:\").length)\n",
    "     spark.sql ( s\"select * from $t\").printSchema\n",
    "})\n"
   ]
  },
  {
   "cell_type": "markdown",
   "id": "e8f35cc2-6b2c-4ad5-aeb6-a2efe781cfeb",
   "metadata": {},
   "source": [
    "# Quality score \n",
    "Suspicious records : \n",
    "* coming from non medical source\n",
    "* having too many symptoms declared =>  exclude the reports having a count of simultaneous symptoms in top 1% per vax.\n",
    "* suspected to be a duplicate of a previous one => \n",
    "* inconsistent timing between vax and symptom => NOT POSSIBLE WITH EUDRAVigilance\n"
   ]
  },
  {
   "cell_type": "code",
   "execution_count": 13,
   "id": "a89c18b1-4b57-4458-ac74-8950ccb805f2",
   "metadata": {},
   "outputs": [
    {
     "name": "stdout",
     "output_type": "stream",
     "text": [
      "Statistics can take few seconds.\n",
      "Checking count of concomitant drugs per EUDRAVigilance report submitted by heathcare professional\n",
      "+-----------------------------------------------+---+-----------------+---+\n",
      "|count of concomitant drugs-0.90/0.95/0.99/0.999|Min|              Avg|Max|\n",
      "+-----------------------------------------------+---+-----------------+---+\n",
      "|                                 [2, 5, 11, 18]|  0|0.737775424568636| 44|\n",
      "+-----------------------------------------------+---+-----------------+---+\n",
      "\n",
      "Checking count of concomitant drugs per EUDRAVigilance report submitted by non heathcare professional\n",
      "+-----------------------------------------------+---+------------------+---+\n",
      "|count of concomitant drugs-0.90/0.95/0.99/0.999|Min|               Avg|Max|\n",
      "+-----------------------------------------------+---+------------------+---+\n",
      "|                                  [2, 3, 6, 13]|  0|0.5471885611601546| 35|\n",
      "+-----------------------------------------------+---+------------------+---+\n",
      "\n",
      "Checking count of suspect drugs per EUDRAVigilance report submitted by heathcare professional\n",
      "+-------------------------------------------+---+------------------+---+\n",
      "|count of suspect drugs-0.90/0.95/0.99/0.999|Min|               Avg|Max|\n",
      "+-------------------------------------------+---+------------------+---+\n",
      "|                               [1, 1, 2, 3]|  1|1.0141371870593632| 20|\n",
      "+-------------------------------------------+---+------------------+---+\n",
      "\n",
      "Checking count of suspect drugs per EUDRAVigilance report submitted by non heathcare professional\n",
      "+-------------------------------------------+---+------------------+---+\n",
      "|count of suspect drugs-0.90/0.95/0.99/0.999|Min|               Avg|Max|\n",
      "+-------------------------------------------+---+------------------+---+\n",
      "|                               [1, 1, 2, 3]|  1|1.0122827477724488| 15|\n",
      "+-------------------------------------------+---+------------------+---+\n",
      "\n",
      "Checking count of reactions per EUDRAVigilance report submitted by heathcare professional\n",
      "+---------------------------------------+---+-----------------+---+\n",
      "|count of reactions-0.90/0.95/0.99/0.999|Min|              Avg|Max|\n",
      "+---------------------------------------+---+-----------------+---+\n",
      "|                         [6, 8, 14, 24]|  1|3.252467566297263| 73|\n",
      "+---------------------------------------+---+-----------------+---+\n",
      "\n",
      "Checking count of reactions per EUDRAVigilance report submitted by non heathcare professional\n",
      "+---------------------------------------+---+-----------------+---+\n",
      "|count of reactions-0.90/0.95/0.99/0.999|Min|              Avg|Max|\n",
      "+---------------------------------------+---+-----------------+---+\n",
      "|                        [8, 10, 14, 21]|  1|4.001766079432383| 55|\n",
      "+---------------------------------------+---+-----------------+---+\n",
      "\n",
      "Should we considere that too many concomitant drugs, or too many reactions should be discarded ?\n"
     ]
    }
   ],
   "source": [
    "//Let's have a look on count of reactions, suspect and concomitant drugs declared per records\n",
    "\n",
    "eudraDF\n",
    " .withColumn(\"count of concomitant drugs\" \n",
    "             , size(getDrugListUDF(\n",
    "                     regexp_replace(  regexp_replace(col(\"Concomitant/Not Administered Drug List (Drug Char - Indication PT - Action taken - [Duration - Dose - Route])\"), \" - \", \"\\t\") , \",<BR><BR>\", \"\\n\"  ) \n",
    "                 ) ) )\n",
    " .withColumn(\"count of suspect drugs\" \n",
    "             , size(getDrugListUDF(\n",
    "                     regexp_replace(  regexp_replace(col(\"Suspect/interacting Drug List (Drug Char - Indication PT - Action taken - [Duration - Dose - Route])\"), \" - \", \"\\t\") , \",<BR><BR>\", \"\\n\"  ) ) ) \n",
    "            )\n",
    " .withColumn(\"count of reactions\" \n",
    "             , size(getReactionListUDF(\n",
    "                     regexp_replace( regexp_replace(col(\"Reaction List PT (Duration – Outcome - Seriousness Criteria)\"), \" - \", \"\\t\") , \",<BR><BR>\", \"\\n\"  ) ) ) \n",
    "            ) \n",
    " .withColumn(\"isHealthCareProfessionnal\", isHealthCareProfessionalUDF(col(\"Primary Source Qualification\")))\n",
    " .select(\"reportEULocalNumber\",\"isHealthCareProfessionnal\",\"count of concomitant drugs\", \"count of suspect drugs\", \"count of reactions\").cache.createOrReplaceTempView(\"linksCount\")\n",
    "\n",
    "println(\"Statistics can take few seconds.\")\n",
    "for (counter <- (\"count of concomitant drugs\"::\"count of suspect drugs\"::\"count of reactions\"::Nil))\n",
    "{ \n",
    "    println(s\"Checking ${counter} per EUDRAVigilance report submitted by heathcare professional\")\n",
    "    spark.sql(s\"\"\"SELECT\n",
    "        percentile_approx(`${counter}`\n",
    "        , array(0.90, 0.95, 0.99, 0.999)) as `${counter}-0.90/0.95/0.99/0.999`\n",
    "        , min(`${counter}`) `Min`\n",
    "        , avg(`${counter}`) `Avg`\n",
    "        , max(`${counter}`) `Max`\n",
    "        FROM linksCount where isHealthCareProfessionnal \"\"\").show(100)\n",
    "    println(s\"Checking ${counter} per EUDRAVigilance report submitted by non heathcare professional\")\n",
    "    spark.sql(s\"\"\"SELECT\n",
    "        percentile_approx(`${counter}`\n",
    "        , array(0.90, 0.95, 0.99, 0.999)) as `${counter}-0.90/0.95/0.99/0.999`\n",
    "        , min(`${counter}`) `Min`\n",
    "        , avg(`${counter}`) `Avg`\n",
    "        , max(`${counter}`) `Max`\n",
    "        FROM linksCount where  isHealthCareProfessionnal=FALSE \"\"\").show(100)\n",
    "}\n",
    "\n",
    "println (\"Should we considere that too many concomitant drugs, or too many reactions should be discarded ?\")"
   ]
  },
  {
   "cell_type": "code",
   "execution_count": 15,
   "id": "e5cc59d9-86e7-4278-a3e6-511f087e3172",
   "metadata": {},
   "outputs": [
    {
     "name": "stdout",
     "output_type": "stream",
     "text": [
      "+-------------------+-------------------------+--------------------------+----------------------+------------------+\n",
      "|reportEULocalNumber|isHealthCareProfessionnal|count of concomitant drugs|count of suspect drugs|count of reactions|\n",
      "+-------------------+-------------------------+--------------------------+----------------------+------------------+\n",
      "|  EU-EC-10010028597|                    false|                         0|                     1|                 2|\n",
      "|  EU-EC-10010028602|                    false|                         0|                     1|                 1|\n",
      "|  EU-EC-10010028607|                    false|                         0|                     1|                 1|\n",
      "|  EU-EC-10010028610|                    false|                         0|                     1|                 1|\n",
      "|  EU-EC-10010028612|                    false|                         0|                     1|                 1|\n",
      "|  EU-EC-10010028618|                    false|                         0|                     1|                 1|\n",
      "|  EU-EC-10010028620|                    false|                         0|                     1|                 7|\n",
      "|  EU-EC-10010028628|                    false|                         0|                     1|                 1|\n",
      "|  EU-EC-10010028633|                    false|                         0|                     1|                 2|\n",
      "|  EU-EC-10010028634|                    false|                         0|                     1|                 1|\n",
      "+-------------------+-------------------------+--------------------------+----------------------+------------------+\n",
      "only showing top 10 rows\n",
      "\n"
     ]
    }
   ],
   "source": [
    "spark.sql(s\"\"\"SELECT * FROM linksCount \"\"\").show(10)\n"
   ]
  },
  {
   "cell_type": "markdown",
   "id": "a50971f9-715f-4b06-a169-2dfffc90e2b3",
   "metadata": {},
   "source": [
    "# Some test queries"
   ]
  },
  {
   "cell_type": "code",
   "execution_count": 17,
   "id": "17a1972e-cbc3-4848-bcb1-8c291fa13830",
   "metadata": {},
   "outputs": [
    {
     "name": "stdout",
     "output_type": "stream",
     "text": [
      "+-------------------+--------------+--------+-------------+---------------+-------------------------+----------------+-------------+\n",
      "|reportEULocalNumber|reportReceived|ageGroup|isPatientMale|isPatientFemale|isHealthCareProfessionnal|isSourceRegionEU|isSpontaneous|\n",
      "+-------------------+--------------+--------+-------------+---------------+-------------------------+----------------+-------------+\n",
      "|  EU-EC-10010028597|    2021-09-17|       4|         true|          false|                    false|            true|         true|\n",
      "|  EU-EC-10010028602|    2021-09-17|       3|         true|          false|                    false|            true|         true|\n",
      "|  EU-EC-10010028607|    2021-09-17|       3|        false|           true|                    false|            true|         true|\n",
      "|  EU-EC-10010028610|    2021-09-17|       3|        false|           true|                    false|            true|         true|\n",
      "|  EU-EC-10010028612|    2021-09-17|       3|        false|           true|                    false|            true|         true|\n",
      "|  EU-EC-10010028618|    2021-09-17|       3|        false|           true|                    false|            true|         true|\n",
      "|  EU-EC-10010028620|    2021-09-17|       3|        false|           true|                    false|            true|         true|\n",
      "|  EU-EC-10010028628|    2021-09-17|       3|         true|          false|                    false|            true|         true|\n",
      "|  EU-EC-10010028633|    2021-09-17|    null|        false|           true|                    false|            true|         true|\n",
      "|  EU-EC-10010028634|    2021-09-17|       3|        false|           true|                    false|            true|         true|\n",
      "+-------------------+--------------+--------+-------------+---------------+-------------------------+----------------+-------------+\n",
      "only showing top 10 rows\n",
      "\n"
     ]
    }
   ],
   "source": [
    "spark.sql(\"select * from vrecords\").show(10)\n"
   ]
  },
  {
   "cell_type": "code",
   "execution_count": 19,
   "id": "b5bd912f",
   "metadata": {},
   "outputs": [
    {
     "name": "stdout",
     "output_type": "stream",
     "text": [
      "Show tables: \n",
      "+---------+-----------------+-----------+\n",
      "|namespace|        tableName|isTemporary|\n",
      "+---------+-----------------+-----------+\n",
      "|         |       linkscount|       true|\n",
      "|         |vconcomitantdrugs|       true|\n",
      "|         |       vreactions|       true|\n",
      "|         |         vrecords|       true|\n",
      "|         |    vsuspectdrugs|       true|\n",
      "+---------+-----------------+-----------+\n",
      "\n",
      "Records received dates: \n",
      "+-------------------+-------------------+\n",
      "|min(reportReceived)|max(reportReceived)|\n",
      "+-------------------+-------------------+\n",
      "|         2021-01-01|         2021-09-17|\n",
      "+-------------------+-------------------+\n",
      "\n",
      "Top concomitant drug in reports : shows the need to normalize names\n",
      "+----------------------------------------+-----+\n",
      "|getCleanerDrugName(concomitantDrug.name)|    n|\n",
      "+----------------------------------------+-----+\n",
      "|                           NOT AVAILABLE|23709|\n",
      "|                             PARACETAMOL|11954|\n",
      "|                    ACETYLSALICYLIC ACID| 9032|\n",
      "|                            ATORVASTATIN| 8191|\n",
      "|                    [LEVOTHYROXINE, L...| 7226|\n",
      "|                              OMEPRAZOLE| 7081|\n",
      "|                          COLECALCIFEROL| 7053|\n",
      "|                    LEVOTHYROXINE SODIUM| 6658|\n",
      "|                    [AMLODIPINE, AMLO...| 5604|\n",
      "|                                RAMIPRIL| 4995|\n",
      "|                    [SERTRALINE, SERT...| 4845|\n",
      "|                    [METFORMIN, METFO...| 4004|\n",
      "|                         INFLUENZA VIRUS| 3829|\n",
      "|                            LANSOPRAZOLE| 3744|\n",
      "|                             SIMVASTATIN| 3617|\n",
      "|                    [LOSARTAN, LOSART...| 3476|\n",
      "|                    IBUPROFEN [IBUPRO...| 3448|\n",
      "|                    [SALBUTAMOL, SALB...| 3306|\n",
      "|                    [LISINOPRIL, LISI...| 3185|\n",
      "|                    [BISOPROLOL, BISO...| 3032|\n",
      "|                              FOLIC ACID| 2809|\n",
      "|                               VITAMIN D| 2797|\n",
      "|                              GABAPENTIN| 2777|\n",
      "|                            VITAMINS NOS| 2674|\n",
      "|                              FUROSEMIDE| 2576|\n",
      "+----------------------------------------+-----+\n",
      "only showing top 25 rows\n",
      "\n",
      "Top suspect drug in reports found in local storage : shows the need to normalize names\n",
      "+------------------------------------+------+\n",
      "|getCleanerDrugName(suspectDrug.name)|     n|\n",
      "+------------------------------------+------+\n",
      "|                COMIRNATY [TOZINA...|348254|\n",
      "|                COVID-19 VACCINE ...|121429|\n",
      "|                TOZINAMERAN [TOZI...| 78721|\n",
      "|                SPIKEVAX [COVID-1...| 64492|\n",
      "|                COVID-19 MRNA VAC...| 50770|\n",
      "|                VAXZEVRIA [COVID-...| 39294|\n",
      "|                COVID-19 VACCINE ...| 18525|\n",
      "|                COVID-19 VACCINE ...|  8728|\n",
      "|                         TOZINAMERAN|  2562|\n",
      "|                           SPIKEVAX |  1861|\n",
      "|                COMIRNATY COVID-1...|  1823|\n",
      "|                COVID-19 VACCINE ...|  1637|\n",
      "|                COMIRNATY CONCENT...|  1202|\n",
      "|                VAXZEVRIA SUSPENS...|  1185|\n",
      "|                       NOT AVAILABLE|  1114|\n",
      "|                COMIRNATY COVID-1...|   933|\n",
      "|                COMIRNATY CONCENT...|   759|\n",
      "|                SPIKEVAX COVID-19...|   240|\n",
      "|                COVID-19 VACCINE ...|   208|\n",
      "|                         PARACETAMOL|   194|\n",
      "|                JANSSEN COVID-19 ...|   170|\n",
      "|                 HUMIRA [ADALIMUMAB]|   140|\n",
      "|                VAXZEVRIA COVID-1...|   120|\n",
      "|                    COVID-19 VACCINE|   107|\n",
      "|                IBUPROFEN [IBUPRO...|    97|\n",
      "+------------------------------------+------+\n",
      "only showing top 25 rows\n",
      "\n"
     ]
    }
   ],
   "source": [
    "println(\"Show tables: \")\n",
    "spark.sql(\"show tables\").show\n",
    "\n",
    "println(\"Records received dates: \")\n",
    "spark.sql(\"select min(reportReceived) , max(reportReceived) from VRecords\").show\n",
    "\n",
    "// println(\"Top reactions in reports\")\n",
    "// spark.sql(\"select reaction.description, count(*) n from VReactions group by reaction.description order by 2 desc \").show(25)\n",
    "\n",
    "println(\"Top concomitant drug in reports : shows the need to normalize names\")\n",
    "spark.sql(\"select getCleanerDrugName(concomitantDrug.name), count(*) n from VConcomitantDrugs group by concomitantDrug.name order by 2 desc\").show(25)\n",
    "\n",
    "println(\"Top suspect drug in reports found in local storage : shows the need to normalize names\")\n",
    "spark.sql(\"select getCleanerDrugName(suspectDrug.name), count(*) n from VSuspectDrugs group by suspectDrug.name order by 2 desc\").show(25)\n"
   ]
  },
  {
   "cell_type": "code",
   "execution_count": 30,
   "id": "62578e29-40f7-4c76-a67a-74da974713c9",
   "metadata": {},
   "outputs": [
    {
     "name": "stdout",
     "output_type": "stream",
     "text": [
      "Number of reports per ageGroup and isHealthCareProfessionnal\n",
      "+--------+------+------+\n",
      "|ageGroup| false|  true|\n",
      "+--------+------+------+\n",
      "|    null| 84337| 99643|\n",
      "|       1|   305|   162|\n",
      "|       3|  3537|  2402|\n",
      "|       4|300000|250766|\n",
      "|       2|    92|   114|\n",
      "|       0|   160|    95|\n",
      "+--------+------+------+\n",
      "\n"
     ]
    }
   ],
   "source": [
    "println(\"Number of reports per ageGroup and isHealthCareProfessionnal\")\n",
    "spark.sql(\"select isHealthCareProfessionnal, ageGroup, count(*) as reportCount from vrecords  group by isHealthCareProfessionnal, ageGroup\")\n",
    ".groupBy(col(\"ageGroup\"))\n",
    ".pivot(\"isHealthCareProfessionnal\")\n",
    ".agg(sum(col(\"reportCount\")))\n",
    ".show"
   ]
  },
  {
   "cell_type": "code",
   "execution_count": 32,
   "id": "b0fb0461-a156-46d4-bda4-ac63cbc2f0fd",
   "metadata": {},
   "outputs": [
    {
     "name": "stdout",
     "output_type": "stream",
     "text": [
      "Number of reports per source over time desc\n",
      "+--------------+-----+-----+\n",
      "|reportReceived|false| true|\n",
      "+--------------+-----+-----+\n",
      "|       2021-09|48690|24292|\n",
      "|       2021-08|64276|36548|\n",
      "|       2021-07|69823|42394|\n",
      "|       2021-06|60217|49880|\n",
      "|       2021-05|45635|45838|\n",
      "|       2021-04|36234|39211|\n",
      "|       2021-03|42334|55677|\n",
      "|       2021-02|15798|43088|\n",
      "|       2021-01| 5424|16254|\n",
      "+--------------+-----+-----+\n",
      "\n"
     ]
    }
   ],
   "source": [
    "println(\"Number of reports per isHealthCareProfessionnal over time desc\")\n",
    "spark.sql(\"select isHealthCareProfessionnal, left(reportReceived,7) as reportReceived, count(*) as reportCount from vrecords group by isHealthCareProfessionnal, left(reportReceived,7)\")\n",
    ".groupBy(col(\"reportReceived\"))\n",
    ".pivot(\"isHealthCareProfessionnal\")\n",
    ".agg(sum(col(\"reportCount\")))\n",
    ".sort (desc (\"reportReceived\"))\n",
    ".show"
   ]
  }
 ],
 "metadata": {
  "kernelspec": {
   "display_name": "spylon-kernel",
   "language": "scala",
   "name": "spylon-kernel"
  },
  "language_info": {
   "codemirror_mode": "text/x-scala",
   "file_extension": ".scala",
   "help_links": [
    {
     "text": "MetaKernel Magics",
     "url": "https://metakernel.readthedocs.io/en/latest/source/README.html"
    }
   ],
   "mimetype": "text/x-scala",
   "name": "scala",
   "pygments_lexer": "scala",
   "version": "0.4.1"
  }
 },
 "nbformat": 4,
 "nbformat_minor": 5
}
